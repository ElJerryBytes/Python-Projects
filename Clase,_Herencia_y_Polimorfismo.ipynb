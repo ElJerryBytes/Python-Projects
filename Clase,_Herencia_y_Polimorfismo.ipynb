{
  "nbformat": 4,
  "nbformat_minor": 0,
  "metadata": {
    "colab": {
      "provenance": []
    },
    "kernelspec": {
      "name": "python3",
      "display_name": "Python 3"
    },
    "language_info": {
      "name": "python"
    }
  },
  "cells": [
    {
      "cell_type": "markdown",
      "source": [
        "***CLASE, HERENCIA Y POLIMORFISMO ***"
      ],
      "metadata": {
        "id": "PEA9LFLdpS56"
      }
    },
    {
      "cell_type": "code",
      "source": [
        "#Clase\n",
        "class Personaje:\n",
        "  def __init__(self, nombre, casa):\n",
        "    self.nombre = nombre\n",
        "    self.casa = casa\n",
        "\n",
        "  def presentarse(self):\n",
        "    return(f\"Hola, soy {self.nombre} y mi casa es {self.casa}.\")\n",
        "\n",
        "#Crear un objeto de la clase personaje\n",
        "Harry=Personaje(\"Harry Potter\", \"Gryffindor\")\n",
        "\n",
        "#Llamada al método del objeto\n",
        "print(Harry.presentarse())\n",
        "\n",
        "#Herencia\n",
        "class Estudiante(Personaje):\n",
        "  def __init__(self,nombre, casa, año):\n",
        "    super(). __init__(nombre, casa)\n",
        "    self.año = año\n",
        "\n",
        "  def detalle_estudiante(self):\n",
        "    return f\"{self.presentarse()} Estoy en mi {self.año} añoen Hogwarts.\"\n",
        "\n",
        "#Crear un objeto de clase estudiante\n",
        "Hermione = Estudiante(\"Hermione Granger\" , \"Gryffindor\", \"5\")\n",
        "\n",
        "#Llamada al metodo objeto\n",
        "print(Hermione.detalle_estudiante())\n"
      ],
      "metadata": {
        "colab": {
          "base_uri": "https://localhost:8080/"
        },
        "id": "5rin4o3ipUdZ",
        "outputId": "228f1b0e-abaf-48bb-fde4-3ba037756320"
      },
      "execution_count": 4,
      "outputs": [
        {
          "output_type": "stream",
          "name": "stdout",
          "text": [
            "Hola, soy Harry Potter y mi casa es Gryffindor.\n",
            "Hola, soy Hermione Granger y mi casa es Gryffindor. Estoy en mi 5 añoen Hogwarts.\n"
          ]
        }
      ]
    },
    {
      "cell_type": "code",
      "source": [
        "#Clase personaje modificada\n",
        "#Para polimorfismo\n",
        "\n",
        "#Clase\n",
        "class Personaje:\n",
        "  def __init__(self, nombre, casa):\n",
        "    self.nombre = nombre\n",
        "    self.casa = casa\n",
        "\n",
        "  def accion(self):\n",
        "    return \"Participa en actividades de Hogwarts.\"\n",
        "\n",
        "#Herencia\n",
        "class Estudiante(Personaje):\n",
        "  def __init__(self,nombre, casa, año):\n",
        "    super(). __init__(nombre, casa)\n",
        "    self.año = año\n",
        "\n",
        "  def accion(self):\n",
        "    #Metodo sobre escrito que especifica la acción sobre estudiante\n",
        "    return \"Asiste a clases y estudia para los examenes.\"\n",
        "\n",
        "#Herencia\n",
        "class Profesor(Personaje):\n",
        "  def __init__(self,nombre,casa, materia):\n",
        "    super().__init__(nombre, casa)\n",
        "    self.materia = materia\n",
        "\n",
        "  def accion(self):\n",
        "    return f\"Enseña {self.materia}\"\n",
        "\n",
        "#Creacion de personajes\n",
        "\n",
        "Harry = Estudiante(\"Harry Potter\", \"Gryffindor\", \"5\")\n",
        "McGonagall = Profesor(\"Minerva McGonagall\",\"Gryffindor\", \"Transformaciones\")\n",
        "\n",
        "#Lista de personajes\n",
        "personajes = [Harry, McGonagall]\n",
        "\n",
        "#Polimorfismo en accion\n",
        "for Personaje in personajes:\n",
        "  print(f\"{Personaje.nombre}: {Personaje.accion()}\")"
      ],
      "metadata": {
        "colab": {
          "base_uri": "https://localhost:8080/"
        },
        "id": "qkGDAqJZtPZ7",
        "outputId": "e52c3b46-f0a8-4ad4-fa5d-b82fe0372d05"
      },
      "execution_count": 6,
      "outputs": [
        {
          "output_type": "stream",
          "name": "stdout",
          "text": [
            "Harry Potter: Asiste a clases y estudia para los examenes.\n",
            "Minerva McGonagall: Enseña Transformaciones\n"
          ]
        }
      ]
    },
    {
      "cell_type": "code",
      "source": [],
      "metadata": {
        "id": "hhXRSgjjvqqw"
      },
      "execution_count": null,
      "outputs": []
    }
  ]
}