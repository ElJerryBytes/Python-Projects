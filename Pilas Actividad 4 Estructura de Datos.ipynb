# -*- coding: utf-8 -*-
"""
Created on Sat Sep  7 20:45:31 2024

@author: Jerry
"""

class Nodo:
    def __init__(self, dato):
        self.dato = dato
        self.siguiente = None

class Pila:
    def __init__(self):
        self.superior = None

    def apilar(self, dato):
        print(f"Agregando {dato} a la cima de la pila")
        #Si no hay datos, agregar el valor en el elemento superior
        if self.superior == None:
            self.superior = Nodo(dato)
            return 0
        nuevo_nodo = Nodo(dato)
        nuevo_nodo.siguiente = nuevo_nodo

    def desapilar(self):
        # Si no hay datos en el nodo superior, regresamos
        if self.superior == None:
            print("No hay ningún elemento")
            return 0
        print(f"Desapilar {self.superior.dato}")
        self.superior = self.superior.siguiente

    def imprimir(self):
        print("Imprimiendo la pila")
        # Recorrer la pila e imprimir valores
        nodo_temporal = self.superior
        while nodo_temporal != None:
            print(f"[{nodo_temporal.dato}]", end=",")
            nodo_temporal = nodo_temporal.siguiente
        print("")

# Uso de la pila
pila = Pila()
pila.apilar("Leon S Kennedy")
pila.apilar("Bob Esponja")
pila.apilar("Henry Cavill")
pila.imprimir()
pila.desapilar()
pila.imprimir()
