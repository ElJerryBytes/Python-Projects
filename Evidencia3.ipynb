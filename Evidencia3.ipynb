{
  "nbformat": 4,
  "nbformat_minor": 0,
  "metadata": {
    "colab": {
      "provenance": []
    },
    "kernelspec": {
      "name": "python3",
      "display_name": "Python 3"
    },
    "language_info": {
      "name": "python"
    }
  },
  "cells": [
    {
      "cell_type": "code",
      "execution_count": null,
      "metadata": {
        "id": "5oR506cRkkeR"
      },
      "outputs": [],
      "source": [
        "import pygame\n",
        "import sys\n",
        "\n",
        "#Definir clase Auto\n",
        "class Auto:\n",
        "    def __init__(self, nombre, vel_max, color,  y_position):\n",
        "        self.nombre = nombre\n",
        "        self.vel_max = vel_max\n",
        "        self.color = color\n",
        "        self.x_position = 0\n",
        "        self.y_position = y_position\n",
        "\n",
        "    def avanzar(self):\n",
        "        self.x_position += self.vel_max\n",
        "\n",
        "def main():\n",
        "    pygame.init()\n",
        "    screen = pygame.display.set_mode((800, 600))\n",
        "    pygame.display.set_caption('Carrera de autos')\n",
        "    font = pygame.font.Font(None, 24)\n",
        "\n",
        "    clock = pygame.time.Clock()\n",
        "\n",
        "    autos = [\n",
        "        Auto(\"Checo Perez\", 3 , (255, 160, 178), 100),\n",
        "        Auto(\"Charles Lecrec\", 2.5, (128, 255, 200), 200),\n",
        "        Auto(\"Lewis Hamilton\" , 4, (187, 51, 255), 300)\n",
        "        ]\n",
        "    running = True\n",
        "    while running:\n",
        "        for event in pygame.event.get():\n",
        "            if event.type == pygame.QUIT:\n",
        "                running = False\n",
        "        screen.fill(255,255,255)\n",
        "\n",
        "        for auto in autos:\n",
        "            auto.avanzar()\n",
        "            pygame.draw.rect(screen, auto.color, pygame.Rect(auto.x_position, auto.y_position, 60, 30))\n",
        "            screen.blit(label, (auto.x_position, auto.y_position - 20))\n",
        "\n",
        "        pygame.display.flip()\n",
        "\n",
        "        for auto in autos:\n",
        "            if auto.x_position > 800:\n",
        "                print(f\"{auto.nombre} ha ganado la carrera\")\n",
        "                running = False\n",
        "                break\n",
        "            clock.tick(60)\n",
        "\n",
        "    pygame.quit()\n",
        "    sys.exit()\n",
        "\n",
        "if __name__ == '__main__':\n",
        "    main()"
      ]
    }
  ]
}