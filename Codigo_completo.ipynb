{
  "nbformat": 4,
  "nbformat_minor": 0,
  "metadata": {
    "colab": {
      "provenance": []
    },
    "kernelspec": {
      "name": "python3",
      "display_name": "Python 3"
    },
    "language_info": {
      "name": "python"
    }
  },
  "cells": [
    {
      "cell_type": "code",
      "execution_count": 5,
      "metadata": {
        "colab": {
          "base_uri": "https://localhost:8080/"
        },
        "id": "BR0Bd5t_wPbv",
        "outputId": "41f739fc-9a88-4486-fea5-10b8e0bac5b2"
      },
      "outputs": [
        {
          "output_type": "stream",
          "name": "stdout",
          "text": [
            "Hola weones, mi nombre es Harry Potter y soy de Gryffindor papus. estoy en mi año 5 en Hogwarts perros.\n",
            "\n",
            "Varita de sauco, 33 cm de longitud\n",
            "\n",
            "Hola weones, mi nombre es Minerva McGonagall y soy de Gryffindor papus. Enseño Transformaciones\n",
            "\n"
          ]
        }
      ],
      "source": [
        "class Personaje:\n",
        "  def __init__(self, nombre, casa):\n",
        "    self.nombre = nombre\n",
        "    self.casa = casa\n",
        "\n",
        "  def presentarse(self):\n",
        "    return(f\"Hola weones, mi nombre es {self.nombre} y soy de {self.casa} papus.\")\n",
        "\n",
        "class Varita:\n",
        "  def __init__(self, material, longitud):\n",
        "    self.material = material\n",
        "    self.longitud = longitud\n",
        "\n",
        "  def descripcion_varita(self):\n",
        "    return f\"Varita de {self.material}, {self.longitud} cm de longitud\"\n",
        "\n",
        "class Estudiante(Personaje):\n",
        "  def __init__(self,nombre, casa, año):\n",
        "    super(). __init__(nombre, casa)\n",
        "    self.año = año\n",
        "\n",
        "  def detalle_estudiante(self):\n",
        "    return f\"{self.presentarse()} estoy en mi año {self.año} en Hogwarts perros.\"\n",
        "\n",
        "class Profesor(Personaje):\n",
        "  def __init__(self,nombre,casa, materia):\n",
        "    super().__init__(nombre, casa)\n",
        "    self.materia = materia\n",
        "  def detalle_profesor(self):\n",
        "    return f\"{self.presentarse()} Enseño {self.materia}\"\n",
        "\n",
        "#crear las instancias de las clases\n",
        "harry = Estudiante(\"Harry Potter\", \"Gryffindor\", \"5\")\n",
        "harry_varita= Varita(\"sauco\", \"33\")\n",
        "mcgonagall = Profesor(\"Minerva McGonagall\",\"Gryffindor\", \"Transformaciones\")\n",
        "\n",
        "#usar los metodos de las clases\n",
        "print(harry.detalle_estudiante())\n",
        "print()\n",
        "print(harry_varita.descripcion_varita())\n",
        "print()\n",
        "print(mcgonagall.detalle_profesor())\n",
        "print()\n"
      ]
    }
  ]
}