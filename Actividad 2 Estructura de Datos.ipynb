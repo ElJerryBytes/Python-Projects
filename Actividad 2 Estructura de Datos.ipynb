# -*- coding: utf-8 -*-
"""
Created on Fri Aug 23 21:50:28 2024

@author: Jerry
"""

estudiantes = []

def agregar_estudiantes(nombre, calificacion):
    estudiantes.append({"nombre": nombre, "Calificacion": calificacion})
    
def modificar_calificacion(nombre, nueva_calificacion):
    for estudiante in estudiantes:
        if estudiante["nombre"] == nombre:
            estudiante["Calificacion"] = nueva_calificacion
            
def eliminar_estudiantes(nombre):
    global estudiantes
    estudiantes = [e for e in estudiantes if e["nombre"] != nombre]
    
def mostrar_estudiantes():
    for estudiante in estudiantes:
        print(f"Nombre: {estudiante['nombre']}, Calificacion: {estudiante['Calificacion']}")

def calcular_promedio():
    total_calificaciones = sum(e["Calificacion"] for e in estudiantes)
    promedio = total_calificaciones / len(estudiantes)
    print(f"Calificaciones promedio = {promedio}")
    
#Ejemplo de Uso
agregar_estudiantes("Gerardo", 10)
agregar_estudiantes("Diego", 8)
agregar_estudiantes("Uriel", 9)
mostrar_estudiantes()
modificar_calificacion("Diego", 9)
mostrar_estudiantes()
calcular_promedio()
eliminar_estudiantes("Gerardo")
mostrar_estudiantes()