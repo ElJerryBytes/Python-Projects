{
  "nbformat": 4,
  "nbformat_minor": 0,
  "metadata": {
    "colab": {
      "provenance": []
    },
    "kernelspec": {
      "name": "python3",
      "display_name": "Python 3"
    },
    "language_info": {
      "name": "python"
    }
  },
  "cells": [
    {
      "cell_type": "code",
      "execution_count": 1,
      "metadata": {
        "id": "K4jWrBrbqFqe"
      },
      "outputs": [],
      "source": [
        "#EVIDENCIA 2"
      ]
    },
    {
      "cell_type": "code",
      "source": [
        "entero = 15\n",
        "flotante = 5.983\n",
        "nombre = \"Gerardo\"\n",
        "booleano = False\n",
        "\n",
        "print(type(entero))\n",
        "print(type(flotante))\n",
        "print(type(nombre))\n",
        "print(type(booleano))\n",
        "\n",
        "def multiplicar(a, b):\n",
        "    return a * b\n",
        "resultado = multiplicar(entero, flotante)\n",
        "print(\"El resultado de la multiplicación es:\", resultado)\n",
        "\n"
      ],
      "metadata": {
        "colab": {
          "base_uri": "https://localhost:8080/"
        },
        "id": "7uhl5K6gqQls",
        "outputId": "f87e2bc7-b086-4315-e940-7201dcbef5e5"
      },
      "execution_count": 3,
      "outputs": [
        {
          "output_type": "stream",
          "name": "stdout",
          "text": [
            "<class 'int'>\n",
            "<class 'float'>\n",
            "<class 'str'>\n",
            "<class 'bool'>\n",
            "El resultado de la multiplicación es: 89.74499999999999\n"
          ]
        }
      ]
    }
  ]
}